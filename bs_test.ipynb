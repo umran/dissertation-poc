{
 "cells": [
  {
   "cell_type": "code",
   "execution_count": 3,
   "id": "ec3465f3",
   "metadata": {},
   "outputs": [],
   "source": [
    "import os, sys\n",
    "sys.path.insert(0, os.path.join(os.getcwd(), \"src\"))"
   ]
  },
  {
   "cell_type": "code",
   "execution_count": 4,
   "id": "c0e64e8f",
   "metadata": {},
   "outputs": [],
   "source": [
    "from bac.manifest import Manifest\n",
    "from bac.algorithms.actor_critic import MultiHeadDDPG, MultiHeadTD3\n",
    "from bac.environments import Hopper, Walker2D\n",
    "\n",
    "test = Manifest(\"./out/test\")"
   ]
  },
  {
   "cell_type": "code",
   "execution_count": null,
   "id": "360f436a",
   "metadata": {},
   "outputs": [],
   "source": [
    "test.bootstrapped(\"ddpg_hopper\", Hopper, MultiHeadDDPG, steps=200_000)"
   ]
  },
  {
   "cell_type": "code",
   "execution_count": null,
   "id": "17a086bd",
   "metadata": {},
   "outputs": [],
   "source": [
    "test.plot_bootstrapped(\"ddpg_hopper\")"
   ]
  },
  {
   "cell_type": "code",
   "execution_count": null,
   "id": "9377e3bc",
   "metadata": {},
   "outputs": [],
   "source": [
    "test.bootstrapped(\"ddpg_walker\", Walker2D, MultiHeadDDPG, steps=200_000)"
   ]
  },
  {
   "cell_type": "code",
   "execution_count": null,
   "id": "a1be32e4",
   "metadata": {},
   "outputs": [],
   "source": [
    "test.plot_bootstrapped(\"ddpg_walker\")"
   ]
  },
  {
   "cell_type": "code",
   "execution_count": null,
   "id": "39d91647",
   "metadata": {},
   "outputs": [],
   "source": [
    "test.bootstrapped(\"td3_hopper\", Hopper, MultiHeadTD3, steps=200_000)"
   ]
  },
  {
   "cell_type": "code",
   "execution_count": null,
   "id": "5ce12429",
   "metadata": {},
   "outputs": [],
   "source": [
    "test.plot_bootstrapped(\"td3_hopper\")"
   ]
  },
  {
   "cell_type": "code",
   "execution_count": null,
   "id": "d7f97a8d",
   "metadata": {},
   "outputs": [],
   "source": [
    "test.bootstrapped(\"td3_walker\", Walker2D, MultiHeadTD3, steps=200_000)"
   ]
  },
  {
   "cell_type": "code",
   "execution_count": null,
   "id": "3bbe4f5f",
   "metadata": {},
   "outputs": [],
   "source": [
    "test.plot_bootstrapped(\"td3_walker\")"
   ]
  }
 ],
 "metadata": {
  "kernelspec": {
   "display_name": ".venv",
   "language": "python",
   "name": "python3"
  },
  "language_info": {
   "codemirror_mode": {
    "name": "ipython",
    "version": 3
   },
   "file_extension": ".py",
   "mimetype": "text/x-python",
   "name": "python",
   "nbconvert_exporter": "python",
   "pygments_lexer": "ipython3",
   "version": "3.12.5"
  }
 },
 "nbformat": 4,
 "nbformat_minor": 5
}
