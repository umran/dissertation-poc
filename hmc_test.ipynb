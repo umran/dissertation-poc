{
 "cells": [
  {
   "cell_type": "code",
   "execution_count": null,
   "id": "a1c8c4a2",
   "metadata": {},
   "outputs": [],
   "source": [
    "import os, sys\n",
    "sys.path.insert(0, os.path.join(os.getcwd(), \"src\"))"
   ]
  },
  {
   "cell_type": "code",
   "execution_count": 7,
   "id": "7bf49ba4",
   "metadata": {},
   "outputs": [],
   "source": [
    "from bac.manifest import Manifest\n",
    "from bac.algorithms.actor_critic import DDPG, TD3\n",
    "from bac.environments import Pendulum, InvertedPendulum, InvertedDoublePendulum\n",
    "\n",
    "test = Manifest(\"./out/alt\")"
   ]
  },
  {
   "cell_type": "code",
   "execution_count": 8,
   "id": "f8822826",
   "metadata": {},
   "outputs": [],
   "source": [
    "test.hmc_ablation(\"ddpg_pendulum\", Pendulum, DDPG, 200_000)"
   ]
  },
  {
   "cell_type": "code",
   "execution_count": 9,
   "id": "55873426",
   "metadata": {},
   "outputs": [],
   "source": [
    "test.hmc_ablation(\"td3_pendulum\", Pendulum, TD3, 200_000)"
   ]
  },
  {
   "cell_type": "code",
   "execution_count": 10,
   "id": "9c2bb417",
   "metadata": {},
   "outputs": [],
   "source": [
    "test.hmc_ablation(\"ddpg_inverted_pendulum\", InvertedPendulum, DDPG, 200_000)"
   ]
  },
  {
   "cell_type": "code",
   "execution_count": 11,
   "id": "d5fa856b",
   "metadata": {},
   "outputs": [],
   "source": [
    "test.hmc_ablation(\"td3_inverted_pendulum\", InvertedPendulum, TD3, 200_000)"
   ]
  },
  {
   "cell_type": "code",
   "execution_count": null,
   "id": "a7396cef",
   "metadata": {},
   "outputs": [],
   "source": [
    "test.hmc_ablation(\"ddpg_inverted_double_pendulum\", InvertedDoublePendulum, DDPG, 200_000)"
   ]
  },
  {
   "cell_type": "code",
   "execution_count": null,
   "id": "15edaa76",
   "metadata": {},
   "outputs": [],
   "source": [
    "test.hmc_ablation(\"td3_inverted_double_pendulum\", InvertedDoublePendulum, TD3, 200_000)"
   ]
  }
 ],
 "metadata": {
  "kernelspec": {
   "display_name": ".venv",
   "language": "python",
   "name": "python3"
  },
  "language_info": {
   "codemirror_mode": {
    "name": "ipython",
    "version": 3
   },
   "file_extension": ".py",
   "mimetype": "text/x-python",
   "name": "python",
   "nbconvert_exporter": "python",
   "pygments_lexer": "ipython3",
   "version": "3.12.5"
  }
 },
 "nbformat": 4,
 "nbformat_minor": 5
}
