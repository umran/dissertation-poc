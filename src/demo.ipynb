{
 "cells": [
  {
   "cell_type": "code",
   "execution_count": null,
   "id": "3467a8e8",
   "metadata": {},
   "outputs": [],
   "source": [
    "from bench_pendulum import bench_pendulum\n",
    "from bench_inverted_pendulum import bench_inverted_pendulum\n",
    "from bench_inverted_double_pendulum import bench_inverted_double_pendulum\n",
    "from bench_hopper import bench_hopper\n",
    "from bench_bac_hopper import bench_bac_hopper"
   ]
  },
  {
   "cell_type": "code",
   "execution_count": null,
   "id": "da2f83f9",
   "metadata": {},
   "outputs": [],
   "source": [
    "bench_pendulum()"
   ]
  },
  {
   "cell_type": "code",
   "execution_count": null,
   "id": "eda63a06",
   "metadata": {},
   "outputs": [],
   "source": [
    "bench_inverted_pendulum()"
   ]
  },
  {
   "cell_type": "code",
   "execution_count": null,
   "id": "3040c8d3",
   "metadata": {},
   "outputs": [],
   "source": [
    "bench_inverted_double_pendulum()"
   ]
  },
  {
   "cell_type": "code",
   "execution_count": null,
   "id": "b3870a44",
   "metadata": {},
   "outputs": [],
   "source": [
    "bench_hopper()"
   ]
  },
  {
   "cell_type": "code",
   "execution_count": null,
   "id": "f292b3be",
   "metadata": {},
   "outputs": [],
   "source": [
    "bench_bac_hopper()"
   ]
  }
 ],
 "metadata": {
  "kernelspec": {
   "display_name": "poc",
   "language": "python",
   "name": "python3"
  },
  "language_info": {
   "codemirror_mode": {
    "name": "ipython",
    "version": 3
   },
   "file_extension": ".py",
   "mimetype": "text/x-python",
   "name": "python",
   "nbconvert_exporter": "python",
   "pygments_lexer": "ipython3",
   "version": "3.12.5"
  }
 },
 "nbformat": 4,
 "nbformat_minor": 5
}
